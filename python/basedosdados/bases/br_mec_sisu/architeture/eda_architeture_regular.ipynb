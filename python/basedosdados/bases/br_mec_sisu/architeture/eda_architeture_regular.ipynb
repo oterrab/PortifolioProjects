{
  "nbformat": 4,
  "nbformat_minor": 0,
  "metadata": {
    "colab": {
      "provenance": [],
      "collapsed_sections": [],
      "authorship_tag": "ABX9TyOHrSesI6VF6cz1O4Eu4Ajq",
      "include_colab_link": true
    },
    "kernelspec": {
      "name": "python3",
      "display_name": "Python 3"
    },
    "language_info": {
      "name": "python"
    },
    "widgets": {
      "application/vnd.jupyter.widget-state+json": {
        "6add44fb11fb4ba39a9cd4eaf6478bcb": {
          "model_module": "@jupyter-widgets/controls",
          "model_name": "HBoxModel",
          "model_module_version": "1.5.0",
          "state": {
            "_dom_classes": [],
            "_model_module": "@jupyter-widgets/controls",
            "_model_module_version": "1.5.0",
            "_model_name": "HBoxModel",
            "_view_count": null,
            "_view_module": "@jupyter-widgets/controls",
            "_view_module_version": "1.5.0",
            "_view_name": "HBoxView",
            "box_style": "",
            "children": [
              "IPY_MODEL_ea94c06350a048af81ec080aa69badd8",
              "IPY_MODEL_09c8177fe8b54d27a1930c7a304da695",
              "IPY_MODEL_8f74be4f96be45819bfb55e3520987f1"
            ],
            "layout": "IPY_MODEL_b7987de6b2e64b4c97fdc32cadfd8f60"
          }
        },
        "ea94c06350a048af81ec080aa69badd8": {
          "model_module": "@jupyter-widgets/controls",
          "model_name": "HTMLModel",
          "model_module_version": "1.5.0",
          "state": {
            "_dom_classes": [],
            "_model_module": "@jupyter-widgets/controls",
            "_model_module_version": "1.5.0",
            "_model_name": "HTMLModel",
            "_view_count": null,
            "_view_module": "@jupyter-widgets/controls",
            "_view_module_version": "1.5.0",
            "_view_name": "HTMLView",
            "description": "",
            "description_tooltip": null,
            "layout": "IPY_MODEL_a114f18821dd498cb3de3cdc7602326d",
            "placeholder": "​",
            "style": "IPY_MODEL_117d21eeb2694160a4400d76fcdfda30",
            "value": "100%"
          }
        },
        "09c8177fe8b54d27a1930c7a304da695": {
          "model_module": "@jupyter-widgets/controls",
          "model_name": "FloatProgressModel",
          "model_module_version": "1.5.0",
          "state": {
            "_dom_classes": [],
            "_model_module": "@jupyter-widgets/controls",
            "_model_module_version": "1.5.0",
            "_model_name": "FloatProgressModel",
            "_view_count": null,
            "_view_module": "@jupyter-widgets/controls",
            "_view_module_version": "1.5.0",
            "_view_name": "ProgressView",
            "bar_style": "success",
            "description": "",
            "description_tooltip": null,
            "layout": "IPY_MODEL_13b927a2df8c443eb1a360f0bfc5b613",
            "max": 8,
            "min": 0,
            "orientation": "horizontal",
            "style": "IPY_MODEL_e39a2ffd1870422181604ba5e12abd16",
            "value": 8
          }
        },
        "8f74be4f96be45819bfb55e3520987f1": {
          "model_module": "@jupyter-widgets/controls",
          "model_name": "HTMLModel",
          "model_module_version": "1.5.0",
          "state": {
            "_dom_classes": [],
            "_model_module": "@jupyter-widgets/controls",
            "_model_module_version": "1.5.0",
            "_model_name": "HTMLModel",
            "_view_count": null,
            "_view_module": "@jupyter-widgets/controls",
            "_view_module_version": "1.5.0",
            "_view_name": "HTMLView",
            "description": "",
            "description_tooltip": null,
            "layout": "IPY_MODEL_2fb4f8c4b80149d38a3c778e2386d0e0",
            "placeholder": "​",
            "style": "IPY_MODEL_9286d799ae074b32b18012c9d3fc2618",
            "value": " 8/8 [00:03&lt;00:00,  2.79it/s]"
          }
        },
        "b7987de6b2e64b4c97fdc32cadfd8f60": {
          "model_module": "@jupyter-widgets/base",
          "model_name": "LayoutModel",
          "model_module_version": "1.2.0",
          "state": {
            "_model_module": "@jupyter-widgets/base",
            "_model_module_version": "1.2.0",
            "_model_name": "LayoutModel",
            "_view_count": null,
            "_view_module": "@jupyter-widgets/base",
            "_view_module_version": "1.2.0",
            "_view_name": "LayoutView",
            "align_content": null,
            "align_items": null,
            "align_self": null,
            "border": null,
            "bottom": null,
            "display": null,
            "flex": null,
            "flex_flow": null,
            "grid_area": null,
            "grid_auto_columns": null,
            "grid_auto_flow": null,
            "grid_auto_rows": null,
            "grid_column": null,
            "grid_gap": null,
            "grid_row": null,
            "grid_template_areas": null,
            "grid_template_columns": null,
            "grid_template_rows": null,
            "height": null,
            "justify_content": null,
            "justify_items": null,
            "left": null,
            "margin": null,
            "max_height": null,
            "max_width": null,
            "min_height": null,
            "min_width": null,
            "object_fit": null,
            "object_position": null,
            "order": null,
            "overflow": null,
            "overflow_x": null,
            "overflow_y": null,
            "padding": null,
            "right": null,
            "top": null,
            "visibility": null,
            "width": null
          }
        },
        "a114f18821dd498cb3de3cdc7602326d": {
          "model_module": "@jupyter-widgets/base",
          "model_name": "LayoutModel",
          "model_module_version": "1.2.0",
          "state": {
            "_model_module": "@jupyter-widgets/base",
            "_model_module_version": "1.2.0",
            "_model_name": "LayoutModel",
            "_view_count": null,
            "_view_module": "@jupyter-widgets/base",
            "_view_module_version": "1.2.0",
            "_view_name": "LayoutView",
            "align_content": null,
            "align_items": null,
            "align_self": null,
            "border": null,
            "bottom": null,
            "display": null,
            "flex": null,
            "flex_flow": null,
            "grid_area": null,
            "grid_auto_columns": null,
            "grid_auto_flow": null,
            "grid_auto_rows": null,
            "grid_column": null,
            "grid_gap": null,
            "grid_row": null,
            "grid_template_areas": null,
            "grid_template_columns": null,
            "grid_template_rows": null,
            "height": null,
            "justify_content": null,
            "justify_items": null,
            "left": null,
            "margin": null,
            "max_height": null,
            "max_width": null,
            "min_height": null,
            "min_width": null,
            "object_fit": null,
            "object_position": null,
            "order": null,
            "overflow": null,
            "overflow_x": null,
            "overflow_y": null,
            "padding": null,
            "right": null,
            "top": null,
            "visibility": null,
            "width": null
          }
        },
        "117d21eeb2694160a4400d76fcdfda30": {
          "model_module": "@jupyter-widgets/controls",
          "model_name": "DescriptionStyleModel",
          "model_module_version": "1.5.0",
          "state": {
            "_model_module": "@jupyter-widgets/controls",
            "_model_module_version": "1.5.0",
            "_model_name": "DescriptionStyleModel",
            "_view_count": null,
            "_view_module": "@jupyter-widgets/base",
            "_view_module_version": "1.2.0",
            "_view_name": "StyleView",
            "description_width": ""
          }
        },
        "13b927a2df8c443eb1a360f0bfc5b613": {
          "model_module": "@jupyter-widgets/base",
          "model_name": "LayoutModel",
          "model_module_version": "1.2.0",
          "state": {
            "_model_module": "@jupyter-widgets/base",
            "_model_module_version": "1.2.0",
            "_model_name": "LayoutModel",
            "_view_count": null,
            "_view_module": "@jupyter-widgets/base",
            "_view_module_version": "1.2.0",
            "_view_name": "LayoutView",
            "align_content": null,
            "align_items": null,
            "align_self": null,
            "border": null,
            "bottom": null,
            "display": null,
            "flex": null,
            "flex_flow": null,
            "grid_area": null,
            "grid_auto_columns": null,
            "grid_auto_flow": null,
            "grid_auto_rows": null,
            "grid_column": null,
            "grid_gap": null,
            "grid_row": null,
            "grid_template_areas": null,
            "grid_template_columns": null,
            "grid_template_rows": null,
            "height": null,
            "justify_content": null,
            "justify_items": null,
            "left": null,
            "margin": null,
            "max_height": null,
            "max_width": null,
            "min_height": null,
            "min_width": null,
            "object_fit": null,
            "object_position": null,
            "order": null,
            "overflow": null,
            "overflow_x": null,
            "overflow_y": null,
            "padding": null,
            "right": null,
            "top": null,
            "visibility": null,
            "width": null
          }
        },
        "e39a2ffd1870422181604ba5e12abd16": {
          "model_module": "@jupyter-widgets/controls",
          "model_name": "ProgressStyleModel",
          "model_module_version": "1.5.0",
          "state": {
            "_model_module": "@jupyter-widgets/controls",
            "_model_module_version": "1.5.0",
            "_model_name": "ProgressStyleModel",
            "_view_count": null,
            "_view_module": "@jupyter-widgets/base",
            "_view_module_version": "1.2.0",
            "_view_name": "StyleView",
            "bar_color": null,
            "description_width": ""
          }
        },
        "2fb4f8c4b80149d38a3c778e2386d0e0": {
          "model_module": "@jupyter-widgets/base",
          "model_name": "LayoutModel",
          "model_module_version": "1.2.0",
          "state": {
            "_model_module": "@jupyter-widgets/base",
            "_model_module_version": "1.2.0",
            "_model_name": "LayoutModel",
            "_view_count": null,
            "_view_module": "@jupyter-widgets/base",
            "_view_module_version": "1.2.0",
            "_view_name": "LayoutView",
            "align_content": null,
            "align_items": null,
            "align_self": null,
            "border": null,
            "bottom": null,
            "display": null,
            "flex": null,
            "flex_flow": null,
            "grid_area": null,
            "grid_auto_columns": null,
            "grid_auto_flow": null,
            "grid_auto_rows": null,
            "grid_column": null,
            "grid_gap": null,
            "grid_row": null,
            "grid_template_areas": null,
            "grid_template_columns": null,
            "grid_template_rows": null,
            "height": null,
            "justify_content": null,
            "justify_items": null,
            "left": null,
            "margin": null,
            "max_height": null,
            "max_width": null,
            "min_height": null,
            "min_width": null,
            "object_fit": null,
            "object_position": null,
            "order": null,
            "overflow": null,
            "overflow_x": null,
            "overflow_y": null,
            "padding": null,
            "right": null,
            "top": null,
            "visibility": null,
            "width": null
          }
        },
        "9286d799ae074b32b18012c9d3fc2618": {
          "model_module": "@jupyter-widgets/controls",
          "model_name": "DescriptionStyleModel",
          "model_module_version": "1.5.0",
          "state": {
            "_model_module": "@jupyter-widgets/controls",
            "_model_module_version": "1.5.0",
            "_model_name": "DescriptionStyleModel",
            "_view_count": null,
            "_view_module": "@jupyter-widgets/base",
            "_view_module_version": "1.2.0",
            "_view_name": "StyleView",
            "description_width": ""
          }
        },
        "6f02709106cb4cb8836df82000f51fea": {
          "model_module": "@jupyter-widgets/controls",
          "model_name": "HBoxModel",
          "model_module_version": "1.5.0",
          "state": {
            "_dom_classes": [],
            "_model_module": "@jupyter-widgets/controls",
            "_model_module_version": "1.5.0",
            "_model_name": "HBoxModel",
            "_view_count": null,
            "_view_module": "@jupyter-widgets/controls",
            "_view_module_version": "1.5.0",
            "_view_name": "HBoxView",
            "box_style": "",
            "children": [
              "IPY_MODEL_923913b5c8aa4071b7b3981900ea4f34",
              "IPY_MODEL_3c2eee44d9394f0b9ea0af801172248d",
              "IPY_MODEL_7677a35b1eb74f18b61c3414b383fd4f"
            ],
            "layout": "IPY_MODEL_84843a02202b4174a775fa9529862071"
          }
        },
        "923913b5c8aa4071b7b3981900ea4f34": {
          "model_module": "@jupyter-widgets/controls",
          "model_name": "HTMLModel",
          "model_module_version": "1.5.0",
          "state": {
            "_dom_classes": [],
            "_model_module": "@jupyter-widgets/controls",
            "_model_module_version": "1.5.0",
            "_model_name": "HTMLModel",
            "_view_count": null,
            "_view_module": "@jupyter-widgets/controls",
            "_view_module_version": "1.5.0",
            "_view_name": "HTMLView",
            "description": "",
            "description_tooltip": null,
            "layout": "IPY_MODEL_e464cbf6500f4cb786c0d53d553c0ada",
            "placeholder": "​",
            "style": "IPY_MODEL_18076924c9da447d8376309713cedead",
            "value": "100%"
          }
        },
        "3c2eee44d9394f0b9ea0af801172248d": {
          "model_module": "@jupyter-widgets/controls",
          "model_name": "FloatProgressModel",
          "model_module_version": "1.5.0",
          "state": {
            "_dom_classes": [],
            "_model_module": "@jupyter-widgets/controls",
            "_model_module_version": "1.5.0",
            "_model_name": "FloatProgressModel",
            "_view_count": null,
            "_view_module": "@jupyter-widgets/controls",
            "_view_module_version": "1.5.0",
            "_view_name": "ProgressView",
            "bar_style": "success",
            "description": "",
            "description_tooltip": null,
            "layout": "IPY_MODEL_82167523848742448447489929884db3",
            "max": 8,
            "min": 0,
            "orientation": "horizontal",
            "style": "IPY_MODEL_0ab7d5ca088d49649b559c5fe6f6946f",
            "value": 8
          }
        },
        "7677a35b1eb74f18b61c3414b383fd4f": {
          "model_module": "@jupyter-widgets/controls",
          "model_name": "HTMLModel",
          "model_module_version": "1.5.0",
          "state": {
            "_dom_classes": [],
            "_model_module": "@jupyter-widgets/controls",
            "_model_module_version": "1.5.0",
            "_model_name": "HTMLModel",
            "_view_count": null,
            "_view_module": "@jupyter-widgets/controls",
            "_view_module_version": "1.5.0",
            "_view_name": "HTMLView",
            "description": "",
            "description_tooltip": null,
            "layout": "IPY_MODEL_b1fe20f7f5a746b4bfa9ba0d02060603",
            "placeholder": "​",
            "style": "IPY_MODEL_46db25e619674f26a74c287f0e248d8b",
            "value": " 8/8 [07:42&lt;00:00, 57.26s/it]"
          }
        },
        "84843a02202b4174a775fa9529862071": {
          "model_module": "@jupyter-widgets/base",
          "model_name": "LayoutModel",
          "model_module_version": "1.2.0",
          "state": {
            "_model_module": "@jupyter-widgets/base",
            "_model_module_version": "1.2.0",
            "_model_name": "LayoutModel",
            "_view_count": null,
            "_view_module": "@jupyter-widgets/base",
            "_view_module_version": "1.2.0",
            "_view_name": "LayoutView",
            "align_content": null,
            "align_items": null,
            "align_self": null,
            "border": null,
            "bottom": null,
            "display": null,
            "flex": null,
            "flex_flow": null,
            "grid_area": null,
            "grid_auto_columns": null,
            "grid_auto_flow": null,
            "grid_auto_rows": null,
            "grid_column": null,
            "grid_gap": null,
            "grid_row": null,
            "grid_template_areas": null,
            "grid_template_columns": null,
            "grid_template_rows": null,
            "height": null,
            "justify_content": null,
            "justify_items": null,
            "left": null,
            "margin": null,
            "max_height": null,
            "max_width": null,
            "min_height": null,
            "min_width": null,
            "object_fit": null,
            "object_position": null,
            "order": null,
            "overflow": null,
            "overflow_x": null,
            "overflow_y": null,
            "padding": null,
            "right": null,
            "top": null,
            "visibility": null,
            "width": null
          }
        },
        "e464cbf6500f4cb786c0d53d553c0ada": {
          "model_module": "@jupyter-widgets/base",
          "model_name": "LayoutModel",
          "model_module_version": "1.2.0",
          "state": {
            "_model_module": "@jupyter-widgets/base",
            "_model_module_version": "1.2.0",
            "_model_name": "LayoutModel",
            "_view_count": null,
            "_view_module": "@jupyter-widgets/base",
            "_view_module_version": "1.2.0",
            "_view_name": "LayoutView",
            "align_content": null,
            "align_items": null,
            "align_self": null,
            "border": null,
            "bottom": null,
            "display": null,
            "flex": null,
            "flex_flow": null,
            "grid_area": null,
            "grid_auto_columns": null,
            "grid_auto_flow": null,
            "grid_auto_rows": null,
            "grid_column": null,
            "grid_gap": null,
            "grid_row": null,
            "grid_template_areas": null,
            "grid_template_columns": null,
            "grid_template_rows": null,
            "height": null,
            "justify_content": null,
            "justify_items": null,
            "left": null,
            "margin": null,
            "max_height": null,
            "max_width": null,
            "min_height": null,
            "min_width": null,
            "object_fit": null,
            "object_position": null,
            "order": null,
            "overflow": null,
            "overflow_x": null,
            "overflow_y": null,
            "padding": null,
            "right": null,
            "top": null,
            "visibility": null,
            "width": null
          }
        },
        "18076924c9da447d8376309713cedead": {
          "model_module": "@jupyter-widgets/controls",
          "model_name": "DescriptionStyleModel",
          "model_module_version": "1.5.0",
          "state": {
            "_model_module": "@jupyter-widgets/controls",
            "_model_module_version": "1.5.0",
            "_model_name": "DescriptionStyleModel",
            "_view_count": null,
            "_view_module": "@jupyter-widgets/base",
            "_view_module_version": "1.2.0",
            "_view_name": "StyleView",
            "description_width": ""
          }
        },
        "82167523848742448447489929884db3": {
          "model_module": "@jupyter-widgets/base",
          "model_name": "LayoutModel",
          "model_module_version": "1.2.0",
          "state": {
            "_model_module": "@jupyter-widgets/base",
            "_model_module_version": "1.2.0",
            "_model_name": "LayoutModel",
            "_view_count": null,
            "_view_module": "@jupyter-widgets/base",
            "_view_module_version": "1.2.0",
            "_view_name": "LayoutView",
            "align_content": null,
            "align_items": null,
            "align_self": null,
            "border": null,
            "bottom": null,
            "display": null,
            "flex": null,
            "flex_flow": null,
            "grid_area": null,
            "grid_auto_columns": null,
            "grid_auto_flow": null,
            "grid_auto_rows": null,
            "grid_column": null,
            "grid_gap": null,
            "grid_row": null,
            "grid_template_areas": null,
            "grid_template_columns": null,
            "grid_template_rows": null,
            "height": null,
            "justify_content": null,
            "justify_items": null,
            "left": null,
            "margin": null,
            "max_height": null,
            "max_width": null,
            "min_height": null,
            "min_width": null,
            "object_fit": null,
            "object_position": null,
            "order": null,
            "overflow": null,
            "overflow_x": null,
            "overflow_y": null,
            "padding": null,
            "right": null,
            "top": null,
            "visibility": null,
            "width": null
          }
        },
        "0ab7d5ca088d49649b559c5fe6f6946f": {
          "model_module": "@jupyter-widgets/controls",
          "model_name": "ProgressStyleModel",
          "model_module_version": "1.5.0",
          "state": {
            "_model_module": "@jupyter-widgets/controls",
            "_model_module_version": "1.5.0",
            "_model_name": "ProgressStyleModel",
            "_view_count": null,
            "_view_module": "@jupyter-widgets/base",
            "_view_module_version": "1.2.0",
            "_view_name": "StyleView",
            "bar_color": null,
            "description_width": ""
          }
        },
        "b1fe20f7f5a746b4bfa9ba0d02060603": {
          "model_module": "@jupyter-widgets/base",
          "model_name": "LayoutModel",
          "model_module_version": "1.2.0",
          "state": {
            "_model_module": "@jupyter-widgets/base",
            "_model_module_version": "1.2.0",
            "_model_name": "LayoutModel",
            "_view_count": null,
            "_view_module": "@jupyter-widgets/base",
            "_view_module_version": "1.2.0",
            "_view_name": "LayoutView",
            "align_content": null,
            "align_items": null,
            "align_self": null,
            "border": null,
            "bottom": null,
            "display": null,
            "flex": null,
            "flex_flow": null,
            "grid_area": null,
            "grid_auto_columns": null,
            "grid_auto_flow": null,
            "grid_auto_rows": null,
            "grid_column": null,
            "grid_gap": null,
            "grid_row": null,
            "grid_template_areas": null,
            "grid_template_columns": null,
            "grid_template_rows": null,
            "height": null,
            "justify_content": null,
            "justify_items": null,
            "left": null,
            "margin": null,
            "max_height": null,
            "max_width": null,
            "min_height": null,
            "min_width": null,
            "object_fit": null,
            "object_position": null,
            "order": null,
            "overflow": null,
            "overflow_x": null,
            "overflow_y": null,
            "padding": null,
            "right": null,
            "top": null,
            "visibility": null,
            "width": null
          }
        },
        "46db25e619674f26a74c287f0e248d8b": {
          "model_module": "@jupyter-widgets/controls",
          "model_name": "DescriptionStyleModel",
          "model_module_version": "1.5.0",
          "state": {
            "_model_module": "@jupyter-widgets/controls",
            "_model_module_version": "1.5.0",
            "_model_name": "DescriptionStyleModel",
            "_view_count": null,
            "_view_module": "@jupyter-widgets/base",
            "_view_module_version": "1.2.0",
            "_view_name": "StyleView",
            "description_width": ""
          }
        }
      }
    }
  },
  "cells": [
    {
      "cell_type": "markdown",
      "metadata": {
        "id": "view-in-github",
        "colab_type": "text"
      },
      "source": [
        "<a href=\"https://colab.research.google.com/github/oterrab/portfolio-projects/blob/main/python/basedosdados/bases/br_mec_sisu/architeture/eda_architeture_regular.ipynb\" target=\"_parent\"><img src=\"https://colab.research.google.com/assets/colab-badge.svg\" alt=\"Open In Colab\"/></a>"
      ]
    },
    {
      "cell_type": "markdown",
      "source": [
        "# EDA to build database architeture"
      ],
      "metadata": {
        "id": "X8ZCWWwu8XYF"
      }
    },
    {
      "cell_type": "code",
      "execution_count": 1,
      "metadata": {
        "id": "RrLTQrpY7xyQ"
      },
      "outputs": [],
      "source": [
        "import pandas as pd\n",
        "import glob\n",
        "from tqdm.auto import tqdm\n",
        "import time\n",
        "from dask import dataframe as dd\n"
      ]
    },
    {
      "cell_type": "code",
      "source": [
        "from google.colab import drive\n",
        "drive.mount('/content/gdrive', force_remount=True)"
      ],
      "metadata": {
        "colab": {
          "base_uri": "https://localhost:8080/"
        },
        "id": "5ejjvrvv8Jp9",
        "outputId": "500e13f9-b9b2-42b2-d78d-94a0b7639307"
      },
      "execution_count": 2,
      "outputs": [
        {
          "output_type": "stream",
          "name": "stdout",
          "text": [
            "Mounted at /content/gdrive\n"
          ]
        }
      ]
    },
    {
      "cell_type": "code",
      "source": [
        "files = []\n",
        "\n",
        "for filepath in glob.iglob(r'/content/gdrive/MyDrive/bases/br_mec_sisu/input/regular/*.csv'):\n",
        "    files.append(filepath)\n",
        "\n",
        "anos=[]\n",
        "\n",
        "for i in range(len(files)) : \n",
        "  anos.append(files[i][-10:-4])\n",
        "\n",
        "dict_ano = dict(zip(anos, files))\n",
        "dict_ano"
      ],
      "metadata": {
        "colab": {
          "base_uri": "https://localhost:8080/"
        },
        "id": "9vMmKY3q8Weg",
        "outputId": "11a881b0-bc07-437e-e301-89b3dcc6e057"
      },
      "execution_count": 3,
      "outputs": [
        {
          "output_type": "execute_result",
          "data": {
            "text/plain": [
              "{'2018-2': '/content/gdrive/MyDrive/bases/br_mec_sisu/input/regular/ListagemChamadaRegular_2018-2.csv',\n",
              " '2019-1': '/content/gdrive/MyDrive/bases/br_mec_sisu/input/regular/ListagemChamadaRegular_2019-1.csv',\n",
              " '2019-2': '/content/gdrive/MyDrive/bases/br_mec_sisu/input/regular/ListagemChamadaRegular_2019-2.csv',\n",
              " '2017-1': '/content/gdrive/MyDrive/bases/br_mec_sisu/input/regular/ListagemChamadaRegular_2017-1.csv',\n",
              " '2017-2': '/content/gdrive/MyDrive/bases/br_mec_sisu/input/regular/ListagemChamadaRegular_2017-2.csv',\n",
              " '2020-1': '/content/gdrive/MyDrive/bases/br_mec_sisu/input/regular/ListagemChamadaRegular_2020-1.csv',\n",
              " '2020-2': '/content/gdrive/MyDrive/bases/br_mec_sisu/input/regular/ListagemChamadaRegular_2020-2.csv',\n",
              " '2021-1': '/content/gdrive/MyDrive/bases/br_mec_sisu/input/regular/ListagemChamadaRegular_2021-1.csv'}"
            ]
          },
          "metadata": {},
          "execution_count": 3
        }
      ]
    },
    {
      "cell_type": "markdown",
      "source": [
        "start = time.time() <br/>\n",
        "df = dd.read_csv(files[2], encoding='utf-8', header=None, sep='\\t') <br/>\n",
        "end = time.time() <br/>\n",
        "print(\"Read csv with dask: \",(end-start),\"sec\") <br/>"
      ],
      "metadata": {
        "id": "1zDR6a8vEMk5"
      }
    },
    {
      "cell_type": "markdown",
      "source": [
        "2017-2 -> encoding='latin-1' and sep='|' <br>\n",
        "20XX-X -> encoding='utf-8' and sep=';'"
      ],
      "metadata": {
        "id": "wuMVxXCqHxKN"
      }
    },
    {
      "cell_type": "markdown",
      "source": [
        "for key in dict_ano: <br/>\n",
        "  print(key, '->', dict_ano[key])\n",
        "\n",
        "2018-2 -> /content/gdrive/MyDrive/bases/br_mec_sisu/input/regular/ListagemChamadaRegular_2018-2.csv <br/>\n",
        "2019-1 -> /content/gdrive/MyDrive/bases/br_mec_sisu/input/regular/ListagemChamadaRegular_2019-1.csv <br/>\n",
        "2019-2 -> /content/gdrive/MyDrive/bases/br_mec_sisu/input/regular/ListagemChamadaRegular_2019-2.csv <br/>\n",
        "2017-1 -> /content/gdrive/MyDrive/bases/br_mec_sisu/input/regular/ListagemChamadaRegular_2017-1.csv <br/>\n",
        "2017-2 -> /content/gdrive/MyDrive/bases/br_mec_sisu/input/regular/ListagemChamadaRegular_2017-2.csv <br/>\n",
        "2020-1 -> /content/gdrive/MyDrive/bases/br_mec_sisu/input/regular/ListagemChamadaRegular_2020-1.csv <br/>\n",
        "2020-2 -> /content/gdrive/MyDrive/bases/br_mec_sisu/input/regular/ListagemChamadaRegular_2020-2.csv <br/>\n",
        "2021-1 -> /content/gdrive/MyDrive/bases/br_mec_sisu/input/regular/ListagemChamadaRegular_2021-1.csv <br/>"
      ],
      "metadata": {
        "id": "kJvQamAw7_-k"
      }
    },
    {
      "cell_type": "code",
      "source": [
        "start = time.time()\n",
        "dfs = []\n",
        "for key in tqdm(dict_ano):\n",
        "  if key == '2017-1':\n",
        "    df = dd.read_csv(dict_ano[key], sep=\"|\", encoding='latin-1', header=0, dtype='string')\n",
        "    dfs.append(df)\n",
        "    print(\"Read \", key)\n",
        "  else:\n",
        "    df = dd.read_csv(dict_ano[key], sep=\";\", encoding='utf-8', header=0, dtype='string')\n",
        "    dfs.append(df)\n",
        "    print(\"Read \", key)\n",
        "end = time.time()\n",
        "print(\"Read \", len(dict_ano[key]),\" csv files with dask: \",((end-start)/60),\"min\")"
      ],
      "metadata": {
        "colab": {
          "base_uri": "https://localhost:8080/",
          "height": 210,
          "referenced_widgets": [
            "6add44fb11fb4ba39a9cd4eaf6478bcb",
            "ea94c06350a048af81ec080aa69badd8",
            "09c8177fe8b54d27a1930c7a304da695",
            "8f74be4f96be45819bfb55e3520987f1",
            "b7987de6b2e64b4c97fdc32cadfd8f60",
            "a114f18821dd498cb3de3cdc7602326d",
            "117d21eeb2694160a4400d76fcdfda30",
            "13b927a2df8c443eb1a360f0bfc5b613",
            "e39a2ffd1870422181604ba5e12abd16",
            "2fb4f8c4b80149d38a3c778e2386d0e0",
            "9286d799ae074b32b18012c9d3fc2618"
          ]
        },
        "id": "G_xfH5H7DvOb",
        "outputId": "fbd313b7-bd6a-4496-ea2d-fbf598f8e999"
      },
      "execution_count": 4,
      "outputs": [
        {
          "output_type": "display_data",
          "data": {
            "text/plain": [
              "  0%|          | 0/8 [00:00<?, ?it/s]"
            ],
            "application/vnd.jupyter.widget-view+json": {
              "version_major": 2,
              "version_minor": 0,
              "model_id": "6add44fb11fb4ba39a9cd4eaf6478bcb"
            }
          },
          "metadata": {}
        },
        {
          "output_type": "stream",
          "name": "stdout",
          "text": [
            "Read  2018-2\n",
            "Read  2019-1\n",
            "Read  2019-2\n",
            "Read  2017-1\n",
            "Read  2017-2\n",
            "Read  2020-1\n",
            "Read  2020-2\n",
            "Read  2021-1\n",
            "Read  89  csv files with dask:  0.052380490303039554 min\n"
          ]
        }
      ]
    },
    {
      "cell_type": "code",
      "source": [
        "print(len(dfs))"
      ],
      "metadata": {
        "id": "VHBZlBbGWJHr",
        "colab": {
          "base_uri": "https://localhost:8080/"
        },
        "outputId": "ee67e589-97f6-4c8b-a54c-809dde576183"
      },
      "execution_count": 5,
      "outputs": [
        {
          "output_type": "stream",
          "name": "stdout",
          "text": [
            "8\n"
          ]
        }
      ]
    },
    {
      "cell_type": "code",
      "source": [
        "dfs[7].head(5)"
      ],
      "metadata": {
        "colab": {
          "base_uri": "https://localhost:8080/",
          "height": 473
        },
        "id": "DKLI-ttBWl0q",
        "outputId": "a9fd5249-24dd-4661-a7e7-4275e9f9e30d"
      },
      "execution_count": 10,
      "outputs": [
        {
          "output_type": "execute_result",
          "data": {
            "text/plain": [
              "  NU_ANO NU_EDICAO CO_ETAPA    DS_ETAPA CO_IES                         NO_IES  \\\n",
              "0   2021         1        4  1° CHAMADA    578  UNIVERSIDADE FEDERAL DA BAHIA   \n",
              "1   2021         1        4  1° CHAMADA    578  UNIVERSIDADE FEDERAL DA BAHIA   \n",
              "2   2021         1        4  1° CHAMADA    578  UNIVERSIDADE FEDERAL DA BAHIA   \n",
              "3   2021         1        4  1° CHAMADA    578  UNIVERSIDADE FEDERAL DA BAHIA   \n",
              "4   2021         1        4  1° CHAMADA    578  UNIVERSIDADE FEDERAL DA BAHIA   \n",
              "\n",
              "  SIGLA_IES SG_UF_IES CO_CAMPUS      NO_CAMPUS  ... NOTA_L_COM_PESO  \\\n",
              "0      UFBA        BA   1047105  CAMPUS CANELA  ...            1662   \n",
              "1      UFBA        BA   1047105  CAMPUS CANELA  ...            1332   \n",
              "2      UFBA        BA   1047105  CAMPUS CANELA  ...          1637,1   \n",
              "3      UFBA        BA   1047105  CAMPUS CANELA  ...            1608   \n",
              "4      UFBA        BA   1047105  CAMPUS CANELA  ...          1555,8   \n",
              "\n",
              "  NOTA_CH_COM_PESO NOTA_CN_COM_PESO NOTA_M_COM_PESO NOTA_R_COM_PESO  \\\n",
              "0           1442,1           2091,2           769,2            1320   \n",
              "1           1164,9           1734,4             961            1560   \n",
              "2           1637,7             1764           814,2            1620   \n",
              "3           1501,5           2285,6          1157,6            2040   \n",
              "4           1407,6           1769,6            1018            1080   \n",
              "\n",
              "  NU_NOTA_CANDIDATO NU_NOTACORTE NU_CLASSIFICACAO ST_APROVADO ST_MATRICULA  \n",
              "0            485,63       628,15              301           N     PENDENTE  \n",
              "1            450,15       702,38               65           N     PENDENTE  \n",
              "2             498,2       628,15              248           N     PENDENTE  \n",
              "3            572,85       697,97              307           N     PENDENTE  \n",
              "4             455,4       655,05              191           N     PENDENTE  \n",
              "\n",
              "[5 rows x 53 columns]"
            ],
            "text/html": [
              "\n",
              "  <div id=\"df-975addf9-e885-41c0-ac8f-0cbfcfb0bc58\">\n",
              "    <div class=\"colab-df-container\">\n",
              "      <div>\n",
              "<style scoped>\n",
              "    .dataframe tbody tr th:only-of-type {\n",
              "        vertical-align: middle;\n",
              "    }\n",
              "\n",
              "    .dataframe tbody tr th {\n",
              "        vertical-align: top;\n",
              "    }\n",
              "\n",
              "    .dataframe thead th {\n",
              "        text-align: right;\n",
              "    }\n",
              "</style>\n",
              "<table border=\"1\" class=\"dataframe\">\n",
              "  <thead>\n",
              "    <tr style=\"text-align: right;\">\n",
              "      <th></th>\n",
              "      <th>NU_ANO</th>\n",
              "      <th>NU_EDICAO</th>\n",
              "      <th>CO_ETAPA</th>\n",
              "      <th>DS_ETAPA</th>\n",
              "      <th>CO_IES</th>\n",
              "      <th>NO_IES</th>\n",
              "      <th>SIGLA_IES</th>\n",
              "      <th>SG_UF_IES</th>\n",
              "      <th>CO_CAMPUS</th>\n",
              "      <th>NO_CAMPUS</th>\n",
              "      <th>...</th>\n",
              "      <th>NOTA_L_COM_PESO</th>\n",
              "      <th>NOTA_CH_COM_PESO</th>\n",
              "      <th>NOTA_CN_COM_PESO</th>\n",
              "      <th>NOTA_M_COM_PESO</th>\n",
              "      <th>NOTA_R_COM_PESO</th>\n",
              "      <th>NU_NOTA_CANDIDATO</th>\n",
              "      <th>NU_NOTACORTE</th>\n",
              "      <th>NU_CLASSIFICACAO</th>\n",
              "      <th>ST_APROVADO</th>\n",
              "      <th>ST_MATRICULA</th>\n",
              "    </tr>\n",
              "  </thead>\n",
              "  <tbody>\n",
              "    <tr>\n",
              "      <th>0</th>\n",
              "      <td>2021</td>\n",
              "      <td>1</td>\n",
              "      <td>4</td>\n",
              "      <td>1° CHAMADA</td>\n",
              "      <td>578</td>\n",
              "      <td>UNIVERSIDADE FEDERAL DA BAHIA</td>\n",
              "      <td>UFBA</td>\n",
              "      <td>BA</td>\n",
              "      <td>1047105</td>\n",
              "      <td>CAMPUS CANELA</td>\n",
              "      <td>...</td>\n",
              "      <td>1662</td>\n",
              "      <td>1442,1</td>\n",
              "      <td>2091,2</td>\n",
              "      <td>769,2</td>\n",
              "      <td>1320</td>\n",
              "      <td>485,63</td>\n",
              "      <td>628,15</td>\n",
              "      <td>301</td>\n",
              "      <td>N</td>\n",
              "      <td>PENDENTE</td>\n",
              "    </tr>\n",
              "    <tr>\n",
              "      <th>1</th>\n",
              "      <td>2021</td>\n",
              "      <td>1</td>\n",
              "      <td>4</td>\n",
              "      <td>1° CHAMADA</td>\n",
              "      <td>578</td>\n",
              "      <td>UNIVERSIDADE FEDERAL DA BAHIA</td>\n",
              "      <td>UFBA</td>\n",
              "      <td>BA</td>\n",
              "      <td>1047105</td>\n",
              "      <td>CAMPUS CANELA</td>\n",
              "      <td>...</td>\n",
              "      <td>1332</td>\n",
              "      <td>1164,9</td>\n",
              "      <td>1734,4</td>\n",
              "      <td>961</td>\n",
              "      <td>1560</td>\n",
              "      <td>450,15</td>\n",
              "      <td>702,38</td>\n",
              "      <td>65</td>\n",
              "      <td>N</td>\n",
              "      <td>PENDENTE</td>\n",
              "    </tr>\n",
              "    <tr>\n",
              "      <th>2</th>\n",
              "      <td>2021</td>\n",
              "      <td>1</td>\n",
              "      <td>4</td>\n",
              "      <td>1° CHAMADA</td>\n",
              "      <td>578</td>\n",
              "      <td>UNIVERSIDADE FEDERAL DA BAHIA</td>\n",
              "      <td>UFBA</td>\n",
              "      <td>BA</td>\n",
              "      <td>1047105</td>\n",
              "      <td>CAMPUS CANELA</td>\n",
              "      <td>...</td>\n",
              "      <td>1637,1</td>\n",
              "      <td>1637,7</td>\n",
              "      <td>1764</td>\n",
              "      <td>814,2</td>\n",
              "      <td>1620</td>\n",
              "      <td>498,2</td>\n",
              "      <td>628,15</td>\n",
              "      <td>248</td>\n",
              "      <td>N</td>\n",
              "      <td>PENDENTE</td>\n",
              "    </tr>\n",
              "    <tr>\n",
              "      <th>3</th>\n",
              "      <td>2021</td>\n",
              "      <td>1</td>\n",
              "      <td>4</td>\n",
              "      <td>1° CHAMADA</td>\n",
              "      <td>578</td>\n",
              "      <td>UNIVERSIDADE FEDERAL DA BAHIA</td>\n",
              "      <td>UFBA</td>\n",
              "      <td>BA</td>\n",
              "      <td>1047105</td>\n",
              "      <td>CAMPUS CANELA</td>\n",
              "      <td>...</td>\n",
              "      <td>1608</td>\n",
              "      <td>1501,5</td>\n",
              "      <td>2285,6</td>\n",
              "      <td>1157,6</td>\n",
              "      <td>2040</td>\n",
              "      <td>572,85</td>\n",
              "      <td>697,97</td>\n",
              "      <td>307</td>\n",
              "      <td>N</td>\n",
              "      <td>PENDENTE</td>\n",
              "    </tr>\n",
              "    <tr>\n",
              "      <th>4</th>\n",
              "      <td>2021</td>\n",
              "      <td>1</td>\n",
              "      <td>4</td>\n",
              "      <td>1° CHAMADA</td>\n",
              "      <td>578</td>\n",
              "      <td>UNIVERSIDADE FEDERAL DA BAHIA</td>\n",
              "      <td>UFBA</td>\n",
              "      <td>BA</td>\n",
              "      <td>1047105</td>\n",
              "      <td>CAMPUS CANELA</td>\n",
              "      <td>...</td>\n",
              "      <td>1555,8</td>\n",
              "      <td>1407,6</td>\n",
              "      <td>1769,6</td>\n",
              "      <td>1018</td>\n",
              "      <td>1080</td>\n",
              "      <td>455,4</td>\n",
              "      <td>655,05</td>\n",
              "      <td>191</td>\n",
              "      <td>N</td>\n",
              "      <td>PENDENTE</td>\n",
              "    </tr>\n",
              "  </tbody>\n",
              "</table>\n",
              "<p>5 rows × 53 columns</p>\n",
              "</div>\n",
              "      <button class=\"colab-df-convert\" onclick=\"convertToInteractive('df-975addf9-e885-41c0-ac8f-0cbfcfb0bc58')\"\n",
              "              title=\"Convert this dataframe to an interactive table.\"\n",
              "              style=\"display:none;\">\n",
              "        \n",
              "  <svg xmlns=\"http://www.w3.org/2000/svg\" height=\"24px\"viewBox=\"0 0 24 24\"\n",
              "       width=\"24px\">\n",
              "    <path d=\"M0 0h24v24H0V0z\" fill=\"none\"/>\n",
              "    <path d=\"M18.56 5.44l.94 2.06.94-2.06 2.06-.94-2.06-.94-.94-2.06-.94 2.06-2.06.94zm-11 1L8.5 8.5l.94-2.06 2.06-.94-2.06-.94L8.5 2.5l-.94 2.06-2.06.94zm10 10l.94 2.06.94-2.06 2.06-.94-2.06-.94-.94-2.06-.94 2.06-2.06.94z\"/><path d=\"M17.41 7.96l-1.37-1.37c-.4-.4-.92-.59-1.43-.59-.52 0-1.04.2-1.43.59L10.3 9.45l-7.72 7.72c-.78.78-.78 2.05 0 2.83L4 21.41c.39.39.9.59 1.41.59.51 0 1.02-.2 1.41-.59l7.78-7.78 2.81-2.81c.8-.78.8-2.07 0-2.86zM5.41 20L4 18.59l7.72-7.72 1.47 1.35L5.41 20z\"/>\n",
              "  </svg>\n",
              "      </button>\n",
              "      \n",
              "  <style>\n",
              "    .colab-df-container {\n",
              "      display:flex;\n",
              "      flex-wrap:wrap;\n",
              "      gap: 12px;\n",
              "    }\n",
              "\n",
              "    .colab-df-convert {\n",
              "      background-color: #E8F0FE;\n",
              "      border: none;\n",
              "      border-radius: 50%;\n",
              "      cursor: pointer;\n",
              "      display: none;\n",
              "      fill: #1967D2;\n",
              "      height: 32px;\n",
              "      padding: 0 0 0 0;\n",
              "      width: 32px;\n",
              "    }\n",
              "\n",
              "    .colab-df-convert:hover {\n",
              "      background-color: #E2EBFA;\n",
              "      box-shadow: 0px 1px 2px rgba(60, 64, 67, 0.3), 0px 1px 3px 1px rgba(60, 64, 67, 0.15);\n",
              "      fill: #174EA6;\n",
              "    }\n",
              "\n",
              "    [theme=dark] .colab-df-convert {\n",
              "      background-color: #3B4455;\n",
              "      fill: #D2E3FC;\n",
              "    }\n",
              "\n",
              "    [theme=dark] .colab-df-convert:hover {\n",
              "      background-color: #434B5C;\n",
              "      box-shadow: 0px 1px 3px 1px rgba(0, 0, 0, 0.15);\n",
              "      filter: drop-shadow(0px 1px 2px rgba(0, 0, 0, 0.3));\n",
              "      fill: #FFFFFF;\n",
              "    }\n",
              "  </style>\n",
              "\n",
              "      <script>\n",
              "        const buttonEl =\n",
              "          document.querySelector('#df-975addf9-e885-41c0-ac8f-0cbfcfb0bc58 button.colab-df-convert');\n",
              "        buttonEl.style.display =\n",
              "          google.colab.kernel.accessAllowed ? 'block' : 'none';\n",
              "\n",
              "        async function convertToInteractive(key) {\n",
              "          const element = document.querySelector('#df-975addf9-e885-41c0-ac8f-0cbfcfb0bc58');\n",
              "          const dataTable =\n",
              "            await google.colab.kernel.invokeFunction('convertToInteractive',\n",
              "                                                     [key], {});\n",
              "          if (!dataTable) return;\n",
              "\n",
              "          const docLinkHtml = 'Like what you see? Visit the ' +\n",
              "            '<a target=\"_blank\" href=https://colab.research.google.com/notebooks/data_table.ipynb>data table notebook</a>'\n",
              "            + ' to learn more about interactive tables.';\n",
              "          element.innerHTML = '';\n",
              "          dataTable['output_type'] = 'display_data';\n",
              "          await google.colab.output.renderOutput(dataTable, element);\n",
              "          const docLink = document.createElement('div');\n",
              "          docLink.innerHTML = docLinkHtml;\n",
              "          element.appendChild(docLink);\n",
              "        }\n",
              "      </script>\n",
              "    </div>\n",
              "  </div>\n",
              "  "
            ]
          },
          "metadata": {},
          "execution_count": 10
        }
      ]
    },
    {
      "cell_type": "code",
      "source": [
        "print(' '.join(list(dfs[7].columns)))\n",
        "\n",
        "## copy and paste into excel"
      ],
      "metadata": {
        "colab": {
          "base_uri": "https://localhost:8080/"
        },
        "id": "HI4HG_1mMWeR",
        "outputId": "5174706c-e002-4db9-ffc0-3821720d419b"
      },
      "execution_count": 11,
      "outputs": [
        {
          "output_type": "stream",
          "name": "stdout",
          "text": [
            "NU_ANO NU_EDICAO CO_ETAPA DS_ETAPA CO_IES NO_IES SIGLA_IES SG_UF_IES CO_CAMPUS NO_CAMPUS SG_UF_CAMPUS NO_MUNUCIPIO_CAMPUS CO_IES_CURSO NO_CURSO DS_GRAU DS_TURNO TP_MOD_CONCORRENCIA DS_MOD_CONCORRENCIA NU_PERCENTUAL_BONUS NU_PESO_L NU_PESO_CH NU_PESO_CN NU_PESO_M NU_PESO_R NOTA_MINIMA_L NOTA_MINIMA_CH NOTA_MINIMA_CN NOTA_MINIMA_M NOTA_MINIMA_R MEDIA_MINIMA NU_CPF CO_INSCRICAO_ENEM NO_INSCRITO TP_SEXO DT_NASCIMENTO SG_UF_CANDIDATO MUNICIPIO_CANDIDATO ST_OPCAO NU_NOTA_L NU_NOTA_CH NU_NOTA_CN NU_NOTA_M NU_NOTA_R NOTA_L_COM_PESO NOTA_CH_COM_PESO NOTA_CN_COM_PESO NOTA_M_COM_PESO NOTA_R_COM_PESO NU_NOTA_CANDIDATO NU_NOTACORTE NU_CLASSIFICACAO ST_APROVADO ST_MATRICULA\n"
          ]
        }
      ]
    },
    {
      "cell_type": "markdown",
      "source": [
        "## Get unique values of columns"
      ],
      "metadata": {
        "id": "zzcjxNahwBND"
      }
    },
    {
      "cell_type": "code",
      "source": [
        "dfs[3].ST_APROVADO.head(5)"
      ],
      "metadata": {
        "id": "MsGze_hbDwVN",
        "colab": {
          "base_uri": "https://localhost:8080/"
        },
        "outputId": "15c28792-f9ea-4b9b-9b65-73382fdeeb63"
      },
      "execution_count": 13,
      "outputs": [
        {
          "output_type": "execute_result",
          "data": {
            "text/plain": [
              "0    N\n",
              "1    N\n",
              "2    N\n",
              "3    N\n",
              "4    N\n",
              "Name: ST_APROVADO, dtype: string"
            ]
          },
          "metadata": {},
          "execution_count": 13
        }
      ]
    },
    {
      "cell_type": "code",
      "source": [
        "for i in tqdm(range(len(dfs))):\n",
        "  ano = dfs[i]['NU_ANO'].head(1).item()\n",
        "  semestre = dfs[i]['NU_EDICAO'].head(1).item()\n",
        "  print('For ' + ano + '-' + semestre + ':')\n",
        "  for unique_value in dfs[i].ST_APROVADO.unique().compute():\n",
        "    print('\\n ' + unique_value)\n",
        "  print(\"------------------\")"
      ],
      "metadata": {
        "id": "qQFWsOeNMwOO",
        "colab": {
          "base_uri": "https://localhost:8080/",
          "height": 906,
          "referenced_widgets": [
            "6f02709106cb4cb8836df82000f51fea",
            "923913b5c8aa4071b7b3981900ea4f34",
            "3c2eee44d9394f0b9ea0af801172248d",
            "7677a35b1eb74f18b61c3414b383fd4f",
            "84843a02202b4174a775fa9529862071",
            "e464cbf6500f4cb786c0d53d553c0ada",
            "18076924c9da447d8376309713cedead",
            "82167523848742448447489929884db3",
            "0ab7d5ca088d49649b559c5fe6f6946f",
            "b1fe20f7f5a746b4bfa9ba0d02060603",
            "46db25e619674f26a74c287f0e248d8b"
          ]
        },
        "outputId": "75cadff6-99ea-4e2f-decb-9b15096571f7"
      },
      "execution_count": 42,
      "outputs": [
        {
          "output_type": "display_data",
          "data": {
            "text/plain": [
              "  0%|          | 0/8 [00:00<?, ?it/s]"
            ],
            "application/vnd.jupyter.widget-view+json": {
              "version_major": 2,
              "version_minor": 0,
              "model_id": "6f02709106cb4cb8836df82000f51fea"
            }
          },
          "metadata": {}
        },
        {
          "output_type": "stream",
          "name": "stdout",
          "text": [
            "For 2018-2:\n",
            "\n",
            " N\n",
            "\n",
            " S\n",
            "------------------\n",
            "For 2019-1:\n",
            "\n",
            " N\n",
            "\n",
            " S\n",
            "------------------\n",
            "For 2019-2:\n",
            "\n",
            " N\n",
            "\n",
            " S\n",
            "------------------\n",
            "For 2017-1:\n",
            "\n",
            " N\n",
            "\n",
            " S\n",
            "------------------\n",
            "For 2017-2:\n",
            "\n",
            " N\n",
            "\n",
            " S\n",
            "------------------\n",
            "For 2020-1:\n",
            "\n",
            " N\n",
            "\n",
            " S\n",
            "------------------\n",
            "For 2020-2:\n",
            "\n",
            " S\n",
            "\n",
            " N\n",
            "------------------\n",
            "For 2021-1:\n",
            "\n",
            " N\n",
            "\n",
            " S\n",
            "------------------\n"
          ]
        }
      ]
    }
  ]
}