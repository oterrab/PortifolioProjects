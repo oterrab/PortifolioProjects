{
 "cells": [
  {
   "cell_type": "code",
   "execution_count": 39,
   "metadata": {},
   "outputs": [],
   "source": [
    "## original data: https://dadosabertos.mec.gov.br/prouni\n",
    "import os\n",
    "import pandas as pd\n",
    "import numpy as np\n",
    "import glob\n",
    "import time\n",
    "#from unidecode import unidecode\n",
    "\n",
    "# Setting working directory\n",
    "\n",
    "os.chdir(r'/Users/lucaspb/git-repositories/portfolio-projects/python/basedosdados/bases/br_mec_prouni.bolsas')"
   ]
  },
  {
   "cell_type": "code",
   "execution_count": 49,
   "metadata": {},
   "outputs": [],
   "source": [
    "import codecs\n",
    "bom_utf8 = codecs.BOM_UTF8\n",
    "\n",
    "def fix_duplicate_bom_utf8(file, bom=bom_utf8):\n",
    "    with open(file, 'rb') as f:\n",
    "        data_f = f.read()\n",
    "\n",
    "    data_finish = bom + data_f.replace(bom, b'')\n",
    "\n",
    "    with open(file, 'wb') as f:\n",
    "        f.write(data_finish)\n",
    "    return"
   ]
  },
  {
   "cell_type": "code",
   "execution_count": null,
   "metadata": {},
   "outputs": [],
   "source": [
    "# Use:\n",
    "file_csv = r\"input/1/pda-prouni-2020.csv\" # Americanï»¿, 美国人ï»¿\n",
    "\n",
    "fix_duplicate_= bom_utf8(file_csv)\n",
    " # file_csv  -> ï»¿American, 美国人"
   ]
  },
  {
   "cell_type": "code",
   "execution_count": 86,
   "metadata": {},
   "outputs": [],
   "source": [
    "df = pd.read_csv(f'input/1/pda-prouni-2020.csv', sep=\";\", encoding='cp850')\n"
   ]
  },
  {
   "cell_type": "code",
   "execution_count": 87,
   "metadata": {},
   "outputs": [
    {
     "name": "stdout",
     "output_type": "stream",
     "text": [
      "0                      UNIVERSIDADE PAULISTA\n",
      "1                 UNIVERSIDADE ESTÁCIO DE SÁ\n",
      "2                  FACULDADE DE QUIXERAMOBIM\n",
      "3               UNIVERSIDADE SÃO JUDAS TADEU\n",
      "4               UNIVERSIDADE SÃO JUDAS TADEU\n",
      "                         ...                \n",
      "166825    CENTRO UNIVERSITÁRIO INTERNACIONAL\n",
      "166826    CENTRO UNIVERSITÁRIO INTERNACIONAL\n",
      "166827    CENTRO UNIVERSITÁRIO INTERNACIONAL\n",
      "166828    CENTRO UNIVERSITÁRIO INTERNACIONAL\n",
      "166829    CENTRO UNIVERSITÁRIO INTERNACIONAL\n",
      "Name: NOME_IES_BOLSA, Length: 166830, dtype: object\n"
     ]
    }
   ],
   "source": [
    "print(df['NOME_IES_BOLSA'])\n"
   ]
  },
  {
   "cell_type": "code",
   "execution_count": 101,
   "metadata": {},
   "outputs": [],
   "source": [
    "df.to_csv('input/pda-prouni-2020.csv', sep=\";\", encoding='utf-8', index=False)"
   ]
  },
  {
   "cell_type": "code",
   "execution_count": 242,
   "metadata": {},
   "outputs": [],
   "source": [
    "df = pd.read_csv(f'input/pda-prouni-2020.csv', sep=\";\", encoding='utf-8')"
   ]
  },
  {
   "cell_type": "code",
   "execution_count": 244,
   "metadata": {},
   "outputs": [],
   "source": [
    "rename = {'ANO_CONCESSAO_BOLSA':'ano', \n",
    "          'ï»¿ANO_CONCESSAO_BOLSA':'ano',\n",
    "          'UF_BENEFICIARIO':'sigla_uf',\n",
    "          'SIGLA_UF_BENEFICIARIO_BOLSA':'sigla_uf',\n",
    "          'MUNICIPIO_BENEFICIARIO':'id_municipio',\n",
    "          'MUNICIPIO_BENEFICIARIO_BOLSA':'id_municipio',\n",
    "          'CPF_BENEFICIARIO':'cpf',\n",
    "          'CPF_BENEFICIARIO_BOLSA':'cpf',\n",
    "          'SEXO_BENEFICIARIO':'sexo',\n",
    "          'SEXO_BENEFICIARIO_BOLSA':'sexo',\n",
    "          'RACA_BENEFICIARIO':'raca_cor',\n",
    "          'RACA_BENEFICIARIO_BOLSA':'raca_cor',\n",
    "          'DATA_NASCIMENTO':'data_nascimento',\n",
    "          'DT_NASCIMENTO_BENEFICIARIO':'data_nascimento',\n",
    "          'BENEFICIARIO_DEFICIENTE_FISICO':'beneficiario_deficiente',\n",
    "          'CODIGO_EMEC_IES_BOLSA':'id_ies',\n",
    "          'CAMPUS':'campus',\n",
    "          'MUNICIPIO':'id_municipio_ies',\n",
    "          'NOME_CURSO_BOLSA':'curso',\n",
    "          'NOME_TURNO_CURSO_BOLSA':'turno_curso',\n",
    "          'TIPO_BOLSA':'tipo_bolsa',\n",
    "          'MODALIDADE_ENSINO_BOLSA':'modalidade_ensino' }\n",
    "\n",
    "ordem2020 = ['sigla_uf', 'id_municipio', 'cpf', 'sexo', 'raca_cor', 'data_nascimento',\n",
    "         'beneficiario_deficiente', 'id_ies', 'campus', 'id_municipio_ies', 'curso', 'turno_curso', 'tipo_bolsa', 'modalidade_ensino']\n",
    "\n",
    "\n",
    "# Settings parameters for partitioning the output \n",
    "\n",
    "anos = [2020]\n",
    "\n",
    "ufs = ['AC', 'AL', 'AM', 'AP', 'BA', 'CE', 'DF', 'ES', 'GO', 'MA', 'MG', 'MS', 'MT', \n",
    "       'PA', 'PB', 'PE', 'PI', 'PR', 'RJ', 'RN', 'RO', 'RR', 'RS', 'SC', 'SE', 'SP', 'TO']\n",
    "\n"
   ]
  },
  {
   "cell_type": "code",
   "execution_count": 209,
   "metadata": {},
   "outputs": [],
   "source": [
    "## chmod -R 777 output\n",
    "for ano in anos:\n",
    "  for uf in ufs:\n",
    "    directory = 'output/ano={}/sigla_uf={}'.format(ano, uf)\n",
    "    if not os.path.exists(directory):\n",
    "      os.makedirs(directory)\n"
   ]
  },
  {
   "cell_type": "code",
   "execution_count": 245,
   "metadata": {},
   "outputs": [],
   "source": [
    "df.rename(columns=rename, inplace=True)\n",
    "df.drop(['NOME_IES_BOLSA', 'REGIAO_BENEFICIARIO_BOLSA', 'REGIAO_BENEFICIARIO'], errors='ignore', axis=1, inplace=True)\n",
    "df['sexo'] = df['sexo'].str.upper().replace({'FEMININO':'F', 'MASCULINO':'M'})\n",
    "df['sexo'] = df['sexo'].replace({'F':'1', 'M':'2'})\n",
    "df['raca_cor'] = df['raca_cor'].str.upper().replace({'AMARELA':'1', 'BRANCA':'2', 'INDÍGENA':'3', 'PARDA':'4', 'PRETA':'5', 'NÃO INFORMADA':'6'})\n",
    "df['beneficiario_deficiente'] = df['beneficiario_deficiente'].str.upper().replace({'SIM':'1', 'NÃO':'0'})\n",
    "df['beneficiario_deficiente'] = df['beneficiario_deficiente'].str.upper().replace({'S':'1', 'N':'0'})\n",
    "df['turno_curso'] = df['turno_curso'].str.upper().replace({'MATUTINO':'1', 'VESPERTINO':'2', 'NOTURNO':'3', 'INTEGRAL':'4', 'CURSO A DISTÂNCIA':'5'})\n",
    "df['tipo_bolsa'] = df['tipo_bolsa'].str.upper().replace({'BOLSA INTEGRAL':'1', 'BOLSA PARCIAL 50%':'2', 'BOLSA COMPLEMENTAR 25%':'3'})\n",
    "df['tipo_bolsa'] = df['tipo_bolsa'].str.upper().replace({'INTEGRAL':'1', 'PARCIAL':'2'})\n",
    "df['modalidade_ensino'] = df['modalidade_ensino'].str.upper().replace({'PRESENCIAL':'1', 'EDUCAÇÃO A DISTÂNCIA':'2', 'EAD':'2'})\n",
    "df['data_nascimento'] = pd.to_datetime(df['data_nascimento'], errors='coerce')\n",
    "df['data_nascimento'] = df['data_nascimento'].dt.strftime('%Y-%m-%d')"
   ]
  },
  {
   "cell_type": "code",
   "execution_count": 246,
   "metadata": {},
   "outputs": [],
   "source": [
    "df['turno_curso'] = df['turno_curso'].str.upper().replace({'CURSO A DISTÃ¢NCIA':'5'})\n",
    "df['turno_curso'] = df['turno_curso'].str.upper().replace({'CURSO A DISTÃ¢NCIA':'5'})\n",
    "df['turno_curso'] = df['turno_curso'].str.upper().replace({'CURSO A DISTNCIA':'5'})\n",
    "df['raca_cor'] = df['raca_cor'].str.upper().replace({'IND¡GENA':'3', 'NÆO INFORMADA':'6'})\n",
    "df['raca_cor'] = df['raca_cor'].str.upper().replace({'INDÃ­GENA':'3', 'NÃ£O INFORMADA':'6'})"
   ]
  },
  {
   "cell_type": "code",
   "execution_count": 247,
   "metadata": {},
   "outputs": [],
   "source": [
    "df.drop(['´╗┐ANO_CONCESSAO_BOLSA'], axis=1, inplace=True)"
   ]
  },
  {
   "cell_type": "code",
   "execution_count": 248,
   "metadata": {},
   "outputs": [
    {
     "data": {
      "text/html": [
       "<div>\n",
       "<style scoped>\n",
       "    .dataframe tbody tr th:only-of-type {\n",
       "        vertical-align: middle;\n",
       "    }\n",
       "\n",
       "    .dataframe tbody tr th {\n",
       "        vertical-align: top;\n",
       "    }\n",
       "\n",
       "    .dataframe thead th {\n",
       "        text-align: right;\n",
       "    }\n",
       "</style>\n",
       "<table border=\"1\" class=\"dataframe\">\n",
       "  <thead>\n",
       "    <tr style=\"text-align: right;\">\n",
       "      <th></th>\n",
       "      <th>id_ies</th>\n",
       "      <th>id_municipio_ies</th>\n",
       "      <th>campus</th>\n",
       "      <th>tipo_bolsa</th>\n",
       "      <th>modalidade_ensino</th>\n",
       "      <th>curso</th>\n",
       "      <th>turno_curso</th>\n",
       "      <th>cpf</th>\n",
       "      <th>sexo</th>\n",
       "      <th>raca_cor</th>\n",
       "      <th>data_nascimento</th>\n",
       "      <th>beneficiario_deficiente</th>\n",
       "      <th>sigla_uf</th>\n",
       "      <th>id_municipio</th>\n",
       "    </tr>\n",
       "  </thead>\n",
       "  <tbody>\n",
       "    <tr>\n",
       "      <th>0</th>\n",
       "      <td>322</td>\n",
       "      <td>IPATINGA</td>\n",
       "      <td>IPATINGA</td>\n",
       "      <td>1</td>\n",
       "      <td>2</td>\n",
       "      <td>PEDAGOGIA</td>\n",
       "      <td>5</td>\n",
       "      <td>991.XXX.XXX-91</td>\n",
       "      <td>1</td>\n",
       "      <td>4</td>\n",
       "      <td>1973-11-08</td>\n",
       "      <td>0</td>\n",
       "      <td>MG</td>\n",
       "      <td>GOVERNADOR VALADARES</td>\n",
       "    </tr>\n",
       "    <tr>\n",
       "      <th>1</th>\n",
       "      <td>163</td>\n",
       "      <td>FORTALEZA</td>\n",
       "      <td>EAD VIA CORPVS - CE</td>\n",
       "      <td>1</td>\n",
       "      <td>2</td>\n",
       "      <td>MARKETING</td>\n",
       "      <td>5</td>\n",
       "      <td>067.XXX.XXX-01</td>\n",
       "      <td>2</td>\n",
       "      <td>4</td>\n",
       "      <td>1987-05-13</td>\n",
       "      <td>0</td>\n",
       "      <td>CE</td>\n",
       "      <td>FORTALEZA</td>\n",
       "    </tr>\n",
       "    <tr>\n",
       "      <th>2</th>\n",
       "      <td>17670</td>\n",
       "      <td>QUIXERAMOBIM</td>\n",
       "      <td>FACULDADE DE QUIXERAMOBIM - UNIQ</td>\n",
       "      <td>1</td>\n",
       "      <td>1</td>\n",
       "      <td>FARMÁCIA</td>\n",
       "      <td>3</td>\n",
       "      <td>623.XXX.XXX-27</td>\n",
       "      <td>2</td>\n",
       "      <td>4</td>\n",
       "      <td>2001-07-23</td>\n",
       "      <td>0</td>\n",
       "      <td>CE</td>\n",
       "      <td>MOMBACA</td>\n",
       "    </tr>\n",
       "    <tr>\n",
       "      <th>3</th>\n",
       "      <td>203</td>\n",
       "      <td>SAO PAULO</td>\n",
       "      <td>PAULISTA</td>\n",
       "      <td>2</td>\n",
       "      <td>1</td>\n",
       "      <td>DIREITO</td>\n",
       "      <td>1</td>\n",
       "      <td>089.XXX.XXX-40</td>\n",
       "      <td>1</td>\n",
       "      <td>2</td>\n",
       "      <td>2003-04-04</td>\n",
       "      <td>0</td>\n",
       "      <td>BA</td>\n",
       "      <td>IBITITA</td>\n",
       "    </tr>\n",
       "    <tr>\n",
       "      <th>4</th>\n",
       "      <td>203</td>\n",
       "      <td>SAO PAULO</td>\n",
       "      <td>PAULISTA</td>\n",
       "      <td>1</td>\n",
       "      <td>1</td>\n",
       "      <td>DIREITO</td>\n",
       "      <td>1</td>\n",
       "      <td>173.XXX.XXX-09</td>\n",
       "      <td>1</td>\n",
       "      <td>2</td>\n",
       "      <td>1977-07-12</td>\n",
       "      <td>0</td>\n",
       "      <td>SP</td>\n",
       "      <td>SAO PAULO</td>\n",
       "    </tr>\n",
       "  </tbody>\n",
       "</table>\n",
       "</div>"
      ],
      "text/plain": [
       "   id_ies id_municipio_ies                            campus tipo_bolsa  \\\n",
       "0     322         IPATINGA                          IPATINGA          1   \n",
       "1     163        FORTALEZA               EAD VIA CORPVS - CE          1   \n",
       "2   17670     QUIXERAMOBIM  FACULDADE DE QUIXERAMOBIM - UNIQ          1   \n",
       "3     203        SAO PAULO                          PAULISTA          2   \n",
       "4     203        SAO PAULO                          PAULISTA          1   \n",
       "\n",
       "  modalidade_ensino      curso turno_curso             cpf sexo raca_cor  \\\n",
       "0                 2  PEDAGOGIA           5  991.XXX.XXX-91    1        4   \n",
       "1                 2  MARKETING           5  067.XXX.XXX-01    2        4   \n",
       "2                 1   FARMÁCIA           3  623.XXX.XXX-27    2        4   \n",
       "3                 1    DIREITO           1  089.XXX.XXX-40    1        2   \n",
       "4                 1    DIREITO           1  173.XXX.XXX-09    1        2   \n",
       "\n",
       "  data_nascimento beneficiario_deficiente sigla_uf          id_municipio  \n",
       "0      1973-11-08                       0       MG  GOVERNADOR VALADARES  \n",
       "1      1987-05-13                       0       CE             FORTALEZA  \n",
       "2      2001-07-23                       0       CE               MOMBACA  \n",
       "3      2003-04-04                       0       BA               IBITITA  \n",
       "4      1977-07-12                       0       SP             SAO PAULO  "
      ]
     },
     "execution_count": 248,
     "metadata": {},
     "output_type": "execute_result"
    }
   ],
   "source": [
    "df.head(5)"
   ]
  },
  {
   "cell_type": "code",
   "execution_count": 249,
   "metadata": {},
   "outputs": [],
   "source": [
    "# Setting up to replace counties names for its unique id\n",
    "## Importing dataframe with counties and unique ids\n",
    "id_mcp = pd.read_csv(r'/Users/lucaspb/git-repositories/portfolio-projects/python/basedosdados/assets/dir_municipio_uf.csv', sep=',', dtype='string')"
   ]
  },
  {
   "cell_type": "code",
   "execution_count": 250,
   "metadata": {},
   "outputs": [],
   "source": [
    "df['id_municipio'] = df['id_municipio'].apply(lambda s: s.upper() if type(s) == str else s)\n",
    "df['id_municipio_ies'] = df['id_municipio_ies'].apply(lambda s: s.upper() if type(s) == str else s)"
   ]
  },
  {
   "cell_type": "markdown",
   "metadata": {},
   "source": [
    "Removing accentuation"
   ]
  },
  {
   "cell_type": "code",
   "execution_count": 252,
   "metadata": {},
   "outputs": [
    {
     "name": "stderr",
     "output_type": "stream",
     "text": [
      "<ipython-input-252-250f57e1b2a9>:1: DeprecationWarning: `np.object` is a deprecated alias for the builtin `object`. To silence this warning, use `object` by itself. Doing this will not modify any behavior and is safe. \n",
      "Deprecated in NumPy 1.20; for more details and guidance: https://numpy.org/devdocs/release/1.20.0-notes.html#deprecations\n",
      "  cols = id_mcp.select_dtypes(include=[np.object]).columns\n"
     ]
    }
   ],
   "source": [
    "cols = id_mcp.select_dtypes(include=[np.object]).columns\n",
    "id_mcp[cols] = id_mcp[cols].apply(lambda x: x.str.normalize('NFKD').str.encode('ascii', errors='ignore').str.decode('utf-8'))"
   ]
  },
  {
   "cell_type": "code",
   "execution_count": null,
   "metadata": {},
   "outputs": [],
   "source": [
    "id_mcp['nome'] = id_mcp['nome'].apply(lambda x: x.replace(\"‘\", ' ').replace(\"’\", ' ').replace(\"'\", ' ').replace('\"', ' ').replace('`', ' ').replace('-', ' '))\n",
    "id_mcp['nome'] = id_mcp['nome'].apply(lambda x: x.replace(\"SANT ANA DO LIVRAMENTO\", 'SANTANA DO LIVRAMENTO'))"
   ]
  },
  {
   "cell_type": "code",
   "execution_count": 253,
   "metadata": {},
   "outputs": [
    {
     "name": "stderr",
     "output_type": "stream",
     "text": [
      "<ipython-input-253-b1c1c87739a5>:1: DeprecationWarning: `np.object` is a deprecated alias for the builtin `object`. To silence this warning, use `object` by itself. Doing this will not modify any behavior and is safe. \n",
      "Deprecated in NumPy 1.20; for more details and guidance: https://numpy.org/devdocs/release/1.20.0-notes.html#deprecations\n",
      "  cols = df.select_dtypes(include=[np.object]).columns\n"
     ]
    }
   ],
   "source": [
    "cols = df.select_dtypes(include=[np.object]).columns\n",
    "df[cols] = df[cols].apply(lambda x: x.str.normalize('NFKD').str.encode('ascii', errors='ignore').str.decode('utf-8'))"
   ]
  },
  {
   "cell_type": "code",
   "execution_count": 254,
   "metadata": {},
   "outputs": [],
   "source": [
    "df['id_municipio'] = df['id_municipio'].apply(lambda x: x.replace(\"‘\", ' ').replace(\"’\", ' ').replace(\"'\", ' ').replace('\"', ' ').replace('`', ' ').replace('-', ' ') if type(x) == str else x)\n",
    "df['id_municipio_ies'] = df['id_municipio_ies'].apply(lambda x: x.replace(\"‘\", ' ').replace(\"’\", ' ').replace(\"'\", ' ').replace('\"', ' ').replace('`', ' ').replace('-', ' ') if type(x) == str else x)"
   ]
  },
  {
   "cell_type": "code",
   "execution_count": 255,
   "metadata": {},
   "outputs": [],
   "source": [
    "df['id_municipio'] = df['id_municipio'].apply(lambda x: x.replace(\"EMBU\", 'EMBU DAS ARTES') if type(x) == str else x)\n",
    "df['id_municipio_ies'] = df['id_municipio_ies'].apply(lambda x: x.replace(\"EMBU\", 'EMBU DAS ARTES') if type(x) == str else x)"
   ]
  },
  {
   "cell_type": "markdown",
   "metadata": {},
   "source": [
    "Droping Duplicates"
   ]
  },
  {
   "cell_type": "code",
   "execution_count": 256,
   "metadata": {},
   "outputs": [
    {
     "data": {
      "text/plain": [
       "109"
      ]
     },
     "execution_count": 256,
     "metadata": {},
     "output_type": "execute_result"
    }
   ],
   "source": [
    "len(df)-len(df.drop_duplicates())"
   ]
  },
  {
   "cell_type": "code",
   "execution_count": 257,
   "metadata": {},
   "outputs": [],
   "source": [
    "df.drop_duplicates(inplace=True)"
   ]
  },
  {
   "cell_type": "code",
   "execution_count": 258,
   "metadata": {},
   "outputs": [
    {
     "data": {
      "text/plain": [
       "0"
      ]
     },
     "execution_count": 258,
     "metadata": {},
     "output_type": "execute_result"
    }
   ],
   "source": [
    "len(df)-len(df.drop_duplicates())"
   ]
  },
  {
   "cell_type": "markdown",
   "metadata": {},
   "source": [
    "Merging and Renaming id_municipio"
   ]
  },
  {
   "cell_type": "code",
   "execution_count": 260,
   "metadata": {},
   "outputs": [],
   "source": [
    "df = pd.merge(id_mcp, df,\n",
    "                    how='right', left_on=['sigla_uf', 'nome'], right_on=['sigla_uf', 'id_municipio'])"
   ]
  },
  {
   "cell_type": "code",
   "execution_count": 261,
   "metadata": {},
   "outputs": [],
   "source": [
    "df.rename(columns={'id_municipio_x':'id_municipio'}, inplace=True)\n",
    "df = df[ordem2020]"
   ]
  },
  {
   "cell_type": "code",
   "execution_count": 264,
   "metadata": {},
   "outputs": [
    {
     "data": {
      "text/html": [
       "<div>\n",
       "<style scoped>\n",
       "    .dataframe tbody tr th:only-of-type {\n",
       "        vertical-align: middle;\n",
       "    }\n",
       "\n",
       "    .dataframe tbody tr th {\n",
       "        vertical-align: top;\n",
       "    }\n",
       "\n",
       "    .dataframe thead th {\n",
       "        text-align: right;\n",
       "    }\n",
       "</style>\n",
       "<table border=\"1\" class=\"dataframe\">\n",
       "  <thead>\n",
       "    <tr style=\"text-align: right;\">\n",
       "      <th></th>\n",
       "      <th>sigla_uf</th>\n",
       "      <th>id_municipio</th>\n",
       "      <th>cpf</th>\n",
       "      <th>sexo</th>\n",
       "      <th>raca_cor</th>\n",
       "      <th>data_nascimento</th>\n",
       "      <th>beneficiario_deficiente</th>\n",
       "      <th>id_ies</th>\n",
       "      <th>campus</th>\n",
       "      <th>id_municipio_ies</th>\n",
       "      <th>curso</th>\n",
       "      <th>turno_curso</th>\n",
       "      <th>tipo_bolsa</th>\n",
       "      <th>modalidade_ensino</th>\n",
       "    </tr>\n",
       "  </thead>\n",
       "  <tbody>\n",
       "    <tr>\n",
       "      <th>0</th>\n",
       "      <td>MG</td>\n",
       "      <td>3127701</td>\n",
       "      <td>991.XXX.XXX-91</td>\n",
       "      <td>1</td>\n",
       "      <td>4</td>\n",
       "      <td>1973-11-08</td>\n",
       "      <td>0</td>\n",
       "      <td>322</td>\n",
       "      <td>IPATINGA</td>\n",
       "      <td>IPATINGA</td>\n",
       "      <td>PEDAGOGIA</td>\n",
       "      <td>5</td>\n",
       "      <td>1</td>\n",
       "      <td>2</td>\n",
       "    </tr>\n",
       "    <tr>\n",
       "      <th>1</th>\n",
       "      <td>CE</td>\n",
       "      <td>2304400</td>\n",
       "      <td>067.XXX.XXX-01</td>\n",
       "      <td>2</td>\n",
       "      <td>4</td>\n",
       "      <td>1987-05-13</td>\n",
       "      <td>0</td>\n",
       "      <td>163</td>\n",
       "      <td>EAD VIA CORPVS - CE</td>\n",
       "      <td>FORTALEZA</td>\n",
       "      <td>MARKETING</td>\n",
       "      <td>5</td>\n",
       "      <td>1</td>\n",
       "      <td>2</td>\n",
       "    </tr>\n",
       "    <tr>\n",
       "      <th>2</th>\n",
       "      <td>CE</td>\n",
       "      <td>2308500</td>\n",
       "      <td>623.XXX.XXX-27</td>\n",
       "      <td>2</td>\n",
       "      <td>4</td>\n",
       "      <td>2001-07-23</td>\n",
       "      <td>0</td>\n",
       "      <td>17670</td>\n",
       "      <td>FACULDADE DE QUIXERAMOBIM - UNIQ</td>\n",
       "      <td>QUIXERAMOBIM</td>\n",
       "      <td>FARMACIA</td>\n",
       "      <td>3</td>\n",
       "      <td>1</td>\n",
       "      <td>1</td>\n",
       "    </tr>\n",
       "    <tr>\n",
       "      <th>3</th>\n",
       "      <td>BA</td>\n",
       "      <td>2913101</td>\n",
       "      <td>089.XXX.XXX-40</td>\n",
       "      <td>1</td>\n",
       "      <td>2</td>\n",
       "      <td>2003-04-04</td>\n",
       "      <td>0</td>\n",
       "      <td>203</td>\n",
       "      <td>PAULISTA</td>\n",
       "      <td>SAO PAULO</td>\n",
       "      <td>DIREITO</td>\n",
       "      <td>1</td>\n",
       "      <td>2</td>\n",
       "      <td>1</td>\n",
       "    </tr>\n",
       "    <tr>\n",
       "      <th>4</th>\n",
       "      <td>SP</td>\n",
       "      <td>3550308</td>\n",
       "      <td>173.XXX.XXX-09</td>\n",
       "      <td>1</td>\n",
       "      <td>2</td>\n",
       "      <td>1977-07-12</td>\n",
       "      <td>0</td>\n",
       "      <td>203</td>\n",
       "      <td>PAULISTA</td>\n",
       "      <td>SAO PAULO</td>\n",
       "      <td>DIREITO</td>\n",
       "      <td>1</td>\n",
       "      <td>1</td>\n",
       "      <td>1</td>\n",
       "    </tr>\n",
       "  </tbody>\n",
       "</table>\n",
       "</div>"
      ],
      "text/plain": [
       "  sigla_uf id_municipio             cpf sexo raca_cor data_nascimento  \\\n",
       "0       MG      3127701  991.XXX.XXX-91    1        4      1973-11-08   \n",
       "1       CE      2304400  067.XXX.XXX-01    2        4      1987-05-13   \n",
       "2       CE      2308500  623.XXX.XXX-27    2        4      2001-07-23   \n",
       "3       BA      2913101  089.XXX.XXX-40    1        2      2003-04-04   \n",
       "4       SP      3550308  173.XXX.XXX-09    1        2      1977-07-12   \n",
       "\n",
       "  beneficiario_deficiente  id_ies                            campus  \\\n",
       "0                       0     322                          IPATINGA   \n",
       "1                       0     163               EAD VIA CORPVS - CE   \n",
       "2                       0   17670  FACULDADE DE QUIXERAMOBIM - UNIQ   \n",
       "3                       0     203                          PAULISTA   \n",
       "4                       0     203                          PAULISTA   \n",
       "\n",
       "  id_municipio_ies      curso turno_curso tipo_bolsa modalidade_ensino  \n",
       "0         IPATINGA  PEDAGOGIA           5          1                 2  \n",
       "1        FORTALEZA  MARKETING           5          1                 2  \n",
       "2     QUIXERAMOBIM   FARMACIA           3          1                 1  \n",
       "3        SAO PAULO    DIREITO           1          2                 1  \n",
       "4        SAO PAULO    DIREITO           1          1                 1  "
      ]
     },
     "execution_count": 264,
     "metadata": {},
     "output_type": "execute_result"
    }
   ],
   "source": [
    "df.head(5)"
   ]
  },
  {
   "cell_type": "markdown",
   "metadata": {},
   "source": [
    "Merging and Renaming id_municipio_ies"
   ]
  },
  {
   "cell_type": "code",
   "execution_count": 268,
   "metadata": {},
   "outputs": [
    {
     "data": {
      "text/html": [
       "<div>\n",
       "<style scoped>\n",
       "    .dataframe tbody tr th:only-of-type {\n",
       "        vertical-align: middle;\n",
       "    }\n",
       "\n",
       "    .dataframe tbody tr th {\n",
       "        vertical-align: top;\n",
       "    }\n",
       "\n",
       "    .dataframe thead th {\n",
       "        text-align: right;\n",
       "    }\n",
       "</style>\n",
       "<table border=\"1\" class=\"dataframe\">\n",
       "  <thead>\n",
       "    <tr style=\"text-align: right;\">\n",
       "      <th></th>\n",
       "      <th>sigla_uf</th>\n",
       "      <th>id_municipio</th>\n",
       "      <th>cpf</th>\n",
       "      <th>sexo</th>\n",
       "      <th>raca_cor</th>\n",
       "      <th>data_nascimento</th>\n",
       "      <th>beneficiario_deficiente</th>\n",
       "      <th>id_ies</th>\n",
       "      <th>campus</th>\n",
       "      <th>id_municipio_ies</th>\n",
       "      <th>curso</th>\n",
       "      <th>turno_curso</th>\n",
       "      <th>tipo_bolsa</th>\n",
       "      <th>modalidade_ensino</th>\n",
       "    </tr>\n",
       "  </thead>\n",
       "  <tbody>\n",
       "    <tr>\n",
       "      <th>1</th>\n",
       "      <td>CE</td>\n",
       "      <td>2304400</td>\n",
       "      <td>067.XXX.XXX-01</td>\n",
       "      <td>2</td>\n",
       "      <td>4</td>\n",
       "      <td>1987-05-13</td>\n",
       "      <td>0</td>\n",
       "      <td>163</td>\n",
       "      <td>EAD VIA CORPVS - CE</td>\n",
       "      <td>FORTALEZA</td>\n",
       "      <td>MARKETING</td>\n",
       "      <td>5</td>\n",
       "      <td>1</td>\n",
       "      <td>2</td>\n",
       "    </tr>\n",
       "    <tr>\n",
       "      <th>32</th>\n",
       "      <td>RJ</td>\n",
       "      <td>3304557</td>\n",
       "      <td>180.XXX.XXX-76</td>\n",
       "      <td>1</td>\n",
       "      <td>2</td>\n",
       "      <td>1997-01-04</td>\n",
       "      <td>0</td>\n",
       "      <td>163</td>\n",
       "      <td>JOAO UCHOA</td>\n",
       "      <td>RIO DE JANEIRO</td>\n",
       "      <td>GESTAO AMBIENTAL</td>\n",
       "      <td>5</td>\n",
       "      <td>1</td>\n",
       "      <td>2</td>\n",
       "    </tr>\n",
       "    <tr>\n",
       "      <th>58</th>\n",
       "      <td>CE</td>\n",
       "      <td>2304400</td>\n",
       "      <td>612.XXX.XXX-70</td>\n",
       "      <td>2</td>\n",
       "      <td>4</td>\n",
       "      <td>1997-07-28</td>\n",
       "      <td>0</td>\n",
       "      <td>163</td>\n",
       "      <td>EAD VIA CORPVS - CE</td>\n",
       "      <td>FORTALEZA</td>\n",
       "      <td>CIENCIAS CONTABEIS</td>\n",
       "      <td>5</td>\n",
       "      <td>1</td>\n",
       "      <td>2</td>\n",
       "    </tr>\n",
       "    <tr>\n",
       "      <th>59</th>\n",
       "      <td>CE</td>\n",
       "      <td>2304400</td>\n",
       "      <td>615.XXX.XXX-72</td>\n",
       "      <td>2</td>\n",
       "      <td>4</td>\n",
       "      <td>1980-08-06</td>\n",
       "      <td>0</td>\n",
       "      <td>163</td>\n",
       "      <td>EAD VIA CORPVS - CE</td>\n",
       "      <td>FORTALEZA</td>\n",
       "      <td>CIENCIAS CONTABEIS</td>\n",
       "      <td>5</td>\n",
       "      <td>1</td>\n",
       "      <td>2</td>\n",
       "    </tr>\n",
       "    <tr>\n",
       "      <th>144</th>\n",
       "      <td>RJ</td>\n",
       "      <td>3304557</td>\n",
       "      <td>187.XXX.XXX-95</td>\n",
       "      <td>1</td>\n",
       "      <td>5</td>\n",
       "      <td>2000-09-13</td>\n",
       "      <td>0</td>\n",
       "      <td>163</td>\n",
       "      <td>JOAO UCHOA</td>\n",
       "      <td>RIO DE JANEIRO</td>\n",
       "      <td>ENFERMAGEM</td>\n",
       "      <td>1</td>\n",
       "      <td>1</td>\n",
       "      <td>1</td>\n",
       "    </tr>\n",
       "    <tr>\n",
       "      <th>...</th>\n",
       "      <td>...</td>\n",
       "      <td>...</td>\n",
       "      <td>...</td>\n",
       "      <td>...</td>\n",
       "      <td>...</td>\n",
       "      <td>...</td>\n",
       "      <td>...</td>\n",
       "      <td>...</td>\n",
       "      <td>...</td>\n",
       "      <td>...</td>\n",
       "      <td>...</td>\n",
       "      <td>...</td>\n",
       "      <td>...</td>\n",
       "      <td>...</td>\n",
       "    </tr>\n",
       "    <tr>\n",
       "      <th>166700</th>\n",
       "      <td>CE</td>\n",
       "      <td>2304400</td>\n",
       "      <td>604.XXX.XXX-09</td>\n",
       "      <td>1</td>\n",
       "      <td>4</td>\n",
       "      <td>1994-10-21</td>\n",
       "      <td>0</td>\n",
       "      <td>163</td>\n",
       "      <td>EAD MOREIRA CAMPOS - CE</td>\n",
       "      <td>FORTALEZA</td>\n",
       "      <td>LOGISTICA</td>\n",
       "      <td>5</td>\n",
       "      <td>1</td>\n",
       "      <td>2</td>\n",
       "    </tr>\n",
       "    <tr>\n",
       "      <th>166702</th>\n",
       "      <td>BA</td>\n",
       "      <td>2927408</td>\n",
       "      <td>075.XXX.XXX-62</td>\n",
       "      <td>1</td>\n",
       "      <td>5</td>\n",
       "      <td>1997-05-02</td>\n",
       "      <td>0</td>\n",
       "      <td>163</td>\n",
       "      <td>EAD GILBERTO GIL - BA</td>\n",
       "      <td>SALVADOR</td>\n",
       "      <td>EDUCACAO FISICA</td>\n",
       "      <td>5</td>\n",
       "      <td>1</td>\n",
       "      <td>2</td>\n",
       "    </tr>\n",
       "    <tr>\n",
       "      <th>166703</th>\n",
       "      <td>RJ</td>\n",
       "      <td>3301702</td>\n",
       "      <td>150.XXX.XXX-74</td>\n",
       "      <td>2</td>\n",
       "      <td>4</td>\n",
       "      <td>1995-04-13</td>\n",
       "      <td>0</td>\n",
       "      <td>163</td>\n",
       "      <td>CENTRO IV - PRACA ONZE</td>\n",
       "      <td>RIO DE JANEIRO</td>\n",
       "      <td>ENGENHARIA CIVIL</td>\n",
       "      <td>3</td>\n",
       "      <td>1</td>\n",
       "      <td>1</td>\n",
       "    </tr>\n",
       "    <tr>\n",
       "      <th>166704</th>\n",
       "      <td>RJ</td>\n",
       "      <td>3303906</td>\n",
       "      <td>182.XXX.XXX-33</td>\n",
       "      <td>1</td>\n",
       "      <td>4</td>\n",
       "      <td>2000-07-09</td>\n",
       "      <td>0</td>\n",
       "      <td>163</td>\n",
       "      <td>PETROPOLIS</td>\n",
       "      <td>PETROPOLIS</td>\n",
       "      <td>BIOMEDICINA</td>\n",
       "      <td>3</td>\n",
       "      <td>1</td>\n",
       "      <td>1</td>\n",
       "    </tr>\n",
       "    <tr>\n",
       "      <th>166705</th>\n",
       "      <td>RJ</td>\n",
       "      <td>3303906</td>\n",
       "      <td>180.XXX.XXX-13</td>\n",
       "      <td>1</td>\n",
       "      <td>2</td>\n",
       "      <td>2002-05-30</td>\n",
       "      <td>0</td>\n",
       "      <td>163</td>\n",
       "      <td>PETROPOLIS</td>\n",
       "      <td>PETROPOLIS</td>\n",
       "      <td>BIOMEDICINA</td>\n",
       "      <td>3</td>\n",
       "      <td>1</td>\n",
       "      <td>1</td>\n",
       "    </tr>\n",
       "  </tbody>\n",
       "</table>\n",
       "<p>4817 rows × 14 columns</p>\n",
       "</div>"
      ],
      "text/plain": [
       "       sigla_uf id_municipio             cpf sexo raca_cor data_nascimento  \\\n",
       "1            CE      2304400  067.XXX.XXX-01    2        4      1987-05-13   \n",
       "32           RJ      3304557  180.XXX.XXX-76    1        2      1997-01-04   \n",
       "58           CE      2304400  612.XXX.XXX-70    2        4      1997-07-28   \n",
       "59           CE      2304400  615.XXX.XXX-72    2        4      1980-08-06   \n",
       "144          RJ      3304557  187.XXX.XXX-95    1        5      2000-09-13   \n",
       "...         ...          ...             ...  ...      ...             ...   \n",
       "166700       CE      2304400  604.XXX.XXX-09    1        4      1994-10-21   \n",
       "166702       BA      2927408  075.XXX.XXX-62    1        5      1997-05-02   \n",
       "166703       RJ      3301702  150.XXX.XXX-74    2        4      1995-04-13   \n",
       "166704       RJ      3303906  182.XXX.XXX-33    1        4      2000-07-09   \n",
       "166705       RJ      3303906  180.XXX.XXX-13    1        2      2002-05-30   \n",
       "\n",
       "       beneficiario_deficiente  id_ies                   campus  \\\n",
       "1                            0     163      EAD VIA CORPVS - CE   \n",
       "32                           0     163               JOAO UCHOA   \n",
       "58                           0     163      EAD VIA CORPVS - CE   \n",
       "59                           0     163      EAD VIA CORPVS - CE   \n",
       "144                          0     163               JOAO UCHOA   \n",
       "...                        ...     ...                      ...   \n",
       "166700                       0     163  EAD MOREIRA CAMPOS - CE   \n",
       "166702                       0     163    EAD GILBERTO GIL - BA   \n",
       "166703                       0     163   CENTRO IV - PRACA ONZE   \n",
       "166704                       0     163               PETROPOLIS   \n",
       "166705                       0     163               PETROPOLIS   \n",
       "\n",
       "       id_municipio_ies               curso turno_curso tipo_bolsa  \\\n",
       "1             FORTALEZA           MARKETING           5          1   \n",
       "32       RIO DE JANEIRO    GESTAO AMBIENTAL           5          1   \n",
       "58            FORTALEZA  CIENCIAS CONTABEIS           5          1   \n",
       "59            FORTALEZA  CIENCIAS CONTABEIS           5          1   \n",
       "144      RIO DE JANEIRO          ENFERMAGEM           1          1   \n",
       "...                 ...                 ...         ...        ...   \n",
       "166700        FORTALEZA           LOGISTICA           5          1   \n",
       "166702         SALVADOR     EDUCACAO FISICA           5          1   \n",
       "166703   RIO DE JANEIRO    ENGENHARIA CIVIL           3          1   \n",
       "166704       PETROPOLIS         BIOMEDICINA           3          1   \n",
       "166705       PETROPOLIS         BIOMEDICINA           3          1   \n",
       "\n",
       "       modalidade_ensino  \n",
       "1                      2  \n",
       "32                     2  \n",
       "58                     2  \n",
       "59                     2  \n",
       "144                    1  \n",
       "...                  ...  \n",
       "166700                 2  \n",
       "166702                 2  \n",
       "166703                 1  \n",
       "166704                 1  \n",
       "166705                 1  \n",
       "\n",
       "[4817 rows x 14 columns]"
      ]
     },
     "execution_count": 268,
     "metadata": {},
     "output_type": "execute_result"
    }
   ],
   "source": [
    "df.loc[df['id_ies'] == 163]"
   ]
  },
  {
   "cell_type": "markdown",
   "metadata": {},
   "source": [
    "We can't merge id_municipio_ies because MEC have used the same id_ies for different campus and our table id_mcp is tied to the sigla_uf which was not inserted in this table for IES."
   ]
  },
  {
   "cell_type": "markdown",
   "metadata": {},
   "source": [
    "Partitioning"
   ]
  },
  {
   "cell_type": "code",
   "execution_count": 263,
   "metadata": {},
   "outputs": [
    {
     "name": "stdout",
     "output_type": "stream",
     "text": [
      "Particionando ano 2020\n",
      "Particionando AC de 2020\n"
     ]
    },
    {
     "name": "stderr",
     "output_type": "stream",
     "text": [
      "/Users/lucaspb/opt/anaconda3/lib/python3.9/site-packages/pandas/core/frame.py:4308: SettingWithCopyWarning: \n",
      "A value is trying to be set on a copy of a slice from a DataFrame\n",
      "\n",
      "See the caveats in the documentation: https://pandas.pydata.org/pandas-docs/stable/user_guide/indexing.html#returning-a-view-versus-a-copy\n",
      "  return super().drop(\n"
     ]
    },
    {
     "name": "stdout",
     "output_type": "stream",
     "text": [
      "Particionando AL de 2020\n",
      "Particionando AM de 2020\n",
      "Particionando AP de 2020\n",
      "Particionando BA de 2020\n",
      "Particionando CE de 2020\n",
      "Particionando DF de 2020\n",
      "Particionando ES de 2020\n",
      "Particionando GO de 2020\n",
      "Particionando MA de 2020\n",
      "Particionando MG de 2020\n",
      "Particionando MS de 2020\n",
      "Particionando MT de 2020\n",
      "Particionando PA de 2020\n",
      "Particionando PB de 2020\n",
      "Particionando PE de 2020\n",
      "Particionando PI de 2020\n",
      "Particionando PR de 2020\n",
      "Particionando RJ de 2020\n",
      "Particionando RN de 2020\n",
      "Particionando RO de 2020\n",
      "Particionando RR de 2020\n",
      "Particionando RS de 2020\n",
      "Particionando SC de 2020\n",
      "Particionando SE de 2020\n",
      "Particionando SP de 2020\n",
      "Particionando TO de 2020\n"
     ]
    }
   ],
   "source": [
    "print(\"Particionando ano 2020\")\n",
    "for uf in ufs:\n",
    "    print(\"Particionando {} de 2020\".format(uf))\n",
    "    time.sleep(1)\n",
    "    df_uf = df[df['sigla_uf'] == uf]\n",
    "    df_uf.drop(['sigla_uf'], axis=1, inplace=True)\n",
    "    exec(\"df_uf.to_csv('output/ano=2020/sigla_uf={}/microdados.csv', index=False, encoding='utf-8', na_rep='', float_format='%.0f')\".format(uf))"
   ]
  }
 ],
 "metadata": {
  "kernelspec": {
   "display_name": "Python 3.9.7 ('base')",
   "language": "python",
   "name": "python3"
  },
  "language_info": {
   "codemirror_mode": {
    "name": "ipython",
    "version": 3
   },
   "file_extension": ".py",
   "mimetype": "text/x-python",
   "name": "python",
   "nbconvert_exporter": "python",
   "pygments_lexer": "ipython3",
   "version": "3.9.7"
  },
  "orig_nbformat": 4,
  "vscode": {
   "interpreter": {
    "hash": "11b58cb7e13f79671beb7d8d906251436dabeaf3aed9c24160a33f9d41f4f26c"
   }
  }
 },
 "nbformat": 4,
 "nbformat_minor": 2
}
